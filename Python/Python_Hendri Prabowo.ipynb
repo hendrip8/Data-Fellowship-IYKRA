{
  "nbformat": 4,
  "nbformat_minor": 0,
  "metadata": {
    "colab": {
      "name": "IYKRA Python_Practice Case.ipynb",
      "provenance": [],
      "collapsed_sections": []
    },
    "kernelspec": {
      "name": "python3",
      "display_name": "Python 3"
    },
    "language_info": {
      "name": "python"
    }
  },
  "cells": [
    {
      "cell_type": "code",
      "metadata": {
        "id": "qpvcpeM8up3w",
        "colab": {
          "base_uri": "https://localhost:8080/"
        },
        "outputId": "98e9b725-b440-44cf-d2fd-95e28eca4d12"
      },
      "source": [
        "#No1\n",
        "import sqlite3\n",
        "def view_update_transaction(data):\n",
        "  conn = sqlite3.connect(data)\n",
        "  cursor = conn.cursor()\n",
        "  cursor.execute('''CREATE TABLE IF NOT EXISTS transactions(\n",
        "   tx_id INT,\n",
        "   id INT,\n",
        "   insert_time DATETIME,\n",
        "   tx_amount FLOAT,\n",
        "   tx_type TEXT,\n",
        "   status TEXT)''')\n",
        "  conn.commit()\n",
        "\n",
        "  conn = sqlite3.connect(data)\n",
        "  cursor = conn.cursor()\n",
        "  sqlite_insert_query = \"\"\"INSERT INTO transactions\n",
        "                          (tx_id,id, insert_time, tx_amount, tx_type, status) \n",
        "                          VALUES (?, ?, ?, ?, ?, ?)\"\"\"\n",
        "  recordsToInsert = [(1,1, '2021-06-28 07:30:00', 10, 'buy', 'open'),\n",
        "                   (2,2, '2021-06-28 07:33:40', 30, 'buy', 'open'),\n",
        "                   (3,3, '2021-06-28 08:31:00', 20, 'buy', 'open'),\n",
        "                   (4,2, '2021-06-28 09:20:00', 10, 'sell', 'close'),\n",
        "                   (5,4, '2021-06-28 09:51:20', 50, 'buy', 'open'),\n",
        "                   (6,3, '2021-06-28 09:55:31', 20, 'sell', 'close'),\n",
        "                   (7,1, '2021-06-28 11:26:00', 20, 'buy', 'open'),\n",
        "                   (8,5, '2021-06-28 12:31:00', 60, 'buy', 'open'),\n",
        "                   (9,1, '2021-06-28 12:54:33', 20, 'sell', 'close'),\n",
        "                   (10,4, '2021-06-28 14:01:14', 10, 'sell', 'close')]\n",
        "  cursor.executemany(sqlite_insert_query, recordsToInsert)   \n",
        "  conn.commit()\n",
        "\n",
        "  cursor.execute('''SELECT id, max(insert_time) as insert_time, tx_amount, tx_type, status from transactions group by id''')\n",
        "  for row in cursor.fetchall():\n",
        "    print(row)\n",
        "view_update_transaction('data_tx.db')"
      ],
      "execution_count": 102,
      "outputs": [
        {
          "output_type": "stream",
          "text": [
            "(1, '2021-06-28 12:54:33', 20.0, 'sell', 'close')\n",
            "(2, '2021-06-28 09:20:00', 10.0, 'sell', 'close')\n",
            "(3, '2021-06-28 09:55:31', 20.0, 'sell', 'close')\n",
            "(4, '2021-06-28 14:01:14', 10.0, 'sell', 'close')\n",
            "(5, '2021-06-28 12:31:00', 60.0, 'buy', 'open')\n"
          ],
          "name": "stdout"
        }
      ]
    },
    {
      "cell_type": "code",
      "metadata": {
        "colab": {
          "base_uri": "https://localhost:8080/"
        },
        "id": "Fie6vjWU8_xu",
        "outputId": "88d28994-1bfe-4e60-d9d7-a47e6264f129"
      },
      "source": [
        "#No2\n",
        "import sqlite3\n",
        "def sum_window(data):\n",
        "  conn = sqlite3.connect(data)\n",
        "  cursor = conn.cursor()\n",
        "  cursor.execute('''CREATE TABLE IF NOT EXISTS dsales(\n",
        "   id INT,\n",
        "   Date DATETIME,\n",
        "   Sales FLOAT)''')\n",
        "  conn.commit()\n",
        "\n",
        "  conn = sqlite3.connect(data)\n",
        "  cursor = conn.cursor()\n",
        "  sqlite_insert_query = \"\"\"INSERT INTO dsales\n",
        "                          (id,Date,Sales) \n",
        "                          VALUES (?, ?, ?)\"\"\"\n",
        "  recordsToInsert = [(1,'2021-01-01',100),\n",
        "                   (2,'2021-01-02',34),\n",
        "                   (3,'2021-01-02',123),\n",
        "                   (4,'2021-01-02',134),\n",
        "                   (5,'2021-01-03',145),\n",
        "                   (6,'2021-01-03',24),\n",
        "                   (7,'2021-01-04',541),\n",
        "                   (8,'2021-01-04',636),\n",
        "                   (9,'2021-01-05',322),\n",
        "                   (10,'2021-01-06',242),\n",
        "                   (11,'2021-01-07',22),\n",
        "                   (12,'2021-01-08',46),]\n",
        "  cursor.executemany(sqlite_insert_query, recordsToInsert)   \n",
        "  conn.commit()\n",
        "\n",
        "  cursor.execute('''SELECT Date, sum(Sales) as Total_Sales from dsales GROUP BY Date''')\n",
        "  for row in cursor.fetchall():\n",
        "    print(row)\n",
        "sum_window('data_sales.db')"
      ],
      "execution_count": 103,
      "outputs": [
        {
          "output_type": "stream",
          "text": [
            "('2021-01-01', 400.0)\n",
            "('2021-01-02', 1164.0)\n",
            "('2021-01-03', 676.0)\n",
            "('2021-01-04', 4708.0)\n",
            "('2021-01-05', 1288.0)\n",
            "('2021-01-06', 968.0)\n",
            "('2021-01-07', 88.0)\n",
            "('2021-01-08', 184.0)\n"
          ],
          "name": "stdout"
        }
      ]
    },
    {
      "cell_type": "code",
      "metadata": {
        "id": "DSqcGZRQ9Eek"
      },
      "source": [
        "#No3\n",
        "dataset_c=[\n",
        "   {\n",
        "       \"user\": {\n",
        "           \"id\": 1,\n",
        "           \"name\": \"agus\",\n",
        "           \"email\": \"agus@example.com\"\n",
        "       },\n",
        "       \"txs\": [\n",
        "           {\n",
        "               \"id\": 1,\n",
        "               \"tx_date\": \"2020-01-01\",\n",
        "               \"tx_amount\": 10,\n",
        "               \"tx_type\": \"buy\"\n",
        "           },\n",
        "           {\n",
        "               \"id\": 3,\n",
        "               \"tx_date\": \"2020-02-01\",\n",
        "               \"tx_amount\": 10,\n",
        "               \"tx_type\": \"buy\"\n",
        "           },\n",
        "           {\n",
        "               \"id\": 5,\n",
        "               \"tx_date\": \"2020-03-01\",\n",
        "               \"tx_amount\": 20,\n",
        "               \"tx_type\": \"sell\"\n",
        "           }\n",
        "       ]\n",
        "   },\n",
        "   {\n",
        "       \"user\": {\n",
        "           \"id\": 2,\n",
        "           \"name\": \"asep\",\n",
        "           \"email\": \"asep@example.com\"\n",
        "       },\n",
        "       \"txs\": [\n",
        "           {\n",
        "               \"id\": 2,\n",
        "               \"tx_date\": \"2020-01-01\",\n",
        "               \"tx_amount\": 10,\n",
        "               \"tx_type\": \"sell\"\n",
        "           },\n",
        "           {\n",
        "               \"id\": 4,\n",
        "               \"tx_date\": \"2020-02-01\",\n",
        "               \"tx_amount\": 10,\n",
        "               \"tx_type\": \"sell\"\n",
        "           },\n",
        "           {\n",
        "               \"id\": 6,\n",
        "               \"tx_date\": \"2020-03-01\",\n",
        "               \"tx_amount\": 20,\n",
        "               \"tx_type\": \"buy\"\n",
        "           }\n",
        "       ]\n",
        "   }\n",
        "]\n",
        "dataset_c\n",
        "\n",
        "import pandas as pd\n",
        "df = pd.json_normalize(dataset_c,'txs',[['user','email'],['user','id'],['user','name']])\n",
        "df\n",
        "\n",
        "#No3a\n",
        "no_3a=df[['user.id','id']]\n",
        "no_3a.columns=['user_id','tx_id']\n",
        "no_3a.to_csv('no_3a.csv',index=False)\n",
        "\n",
        "#No3b\n",
        "no_3b=df[['user.id','user.name','user.email']].drop_duplicates().reset_index(drop=True)\n",
        "no_3b.columns=['id','name','email']\n",
        "no_3b.to_csv('no_3b.csv',index=False)\n",
        "\n",
        "#No3c\n",
        "no_3c=df[['id','tx_date','tx_amount','tx_type']].sort_values('id').reset_index(drop=True)\n",
        "no_3c.to_csv('no_3c.csv',index=False)"
      ],
      "execution_count": 105,
      "outputs": []
    }
  ]
}